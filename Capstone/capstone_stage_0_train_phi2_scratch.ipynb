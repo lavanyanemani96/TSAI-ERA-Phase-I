{
 "cells": [
  {
   "cell_type": "markdown",
   "metadata": {},
   "source": [
    "# Training Phi-2 from scratch"
   ]
  },
  {
   "cell_type": "code",
   "execution_count": null,
   "metadata": {},
   "outputs": [],
   "source": [
    "import os\n",
    "os.environ[\"CUDA_DEVICE_ORDER\"]=\"PCI_BUS_ID\"\n",
    "os.environ[\"CUDA_VISIBLE_DEVICES\"]=\"0\""
   ]
  },
  {
   "cell_type": "code",
   "execution_count": null,
   "metadata": {},
   "outputs": [],
   "source": [
    "# !pip install -q -U trl transformers accelerate git+https://github.com/huggingface/peft.git\n",
    "# !pip install -q datasets bitsandbytes einops wandb\n",
    "# !pip install --upgrade datasets"
   ]
  },
  {
   "cell_type": "code",
   "execution_count": null,
   "metadata": {},
   "outputs": [],
   "source": [
    "# ! pip install transformers==4.28.0\n",
    "# ! pip install --upgrade transformers"
   ]
  },
  {
   "cell_type": "code",
   "execution_count": null,
   "metadata": {
    "execution": {
     "iopub.execute_input": "2023-12-22T06:48:10.458173Z",
     "iopub.status.busy": "2023-12-22T06:48:10.457891Z",
     "iopub.status.idle": "2023-12-22T06:48:29.799894Z",
     "shell.execute_reply": "2023-12-22T06:48:29.799162Z",
     "shell.execute_reply.started": "2023-12-22T06:48:10.458145Z"
    }
   },
   "outputs": [],
   "source": [
    "from datasets import load_dataset\n",
    "import os \n",
    "\n",
    "dataset_name = \"togethercomputer/RedPajama-Data-1T-Sample\"\n",
    "dataset_train = load_dataset(dataset_name, cache_dir=\"dataset/RedPajama-Data-1T-Sample\", \n",
    "                             split=\"train\", num_proc=16)"
   ]
  },
  {
   "cell_type": "markdown",
   "metadata": {},
   "source": [
    "#### Setup tokenizer"
   ]
  },
  {
   "cell_type": "code",
   "execution_count": null,
   "metadata": {
    "execution": {
     "iopub.execute_input": "2023-12-22T06:48:56.271499Z",
     "iopub.status.busy": "2023-12-22T06:48:56.271118Z",
     "iopub.status.idle": "2023-12-22T06:50:19.230277Z",
     "shell.execute_reply": "2023-12-22T06:50:19.229489Z",
     "shell.execute_reply.started": "2023-12-22T06:48:56.271461Z"
    }
   },
   "outputs": [],
   "source": [
    "import torch\n",
    "from transformers import  AutoTokenizer\n",
    "\n",
    "model_name = \"microsoft/phi-2\"\n",
    "\n",
    "tokenizer = AutoTokenizer.from_pretrained(model_name, trust_remote_code=True)\n",
    "tokenizer.pad_token = tokenizer.eos_token\n"
   ]
  },
  {
   "cell_type": "markdown",
   "metadata": {},
   "source": [
    "#### Setup Configuration and create model"
   ]
  },
  {
   "cell_type": "code",
   "execution_count": null,
   "metadata": {},
   "outputs": [],
   "source": [
    "from transformers import AutoModelForCausalLM, AutoConfig\n",
    "\n",
    "model_name = \"microsoft/phi-2\"\n",
    "\n",
    "# Initialize model with random weights\n",
    "model_phi2_scratch = AutoModelForCausalLM.from_pretrained(model_name, \n",
    "                                                          trust_remote_code=True, \n",
    "                                                          device_map = 'cpu'\n",
    "                                                          )\n",
    "model_phi2_scratch.init_weights()\n"
   ]
  },
  {
   "cell_type": "code",
   "execution_count": null,
   "metadata": {},
   "outputs": [],
   "source": [
    "model_phi2_scratch = model_phi2_scratch.to('cuda:1')"
   ]
  },
  {
   "cell_type": "code",
   "execution_count": null,
   "metadata": {
    "execution": {
     "iopub.execute_input": "2023-12-22T06:50:24.769510Z",
     "iopub.status.busy": "2023-12-22T06:50:24.769139Z",
     "iopub.status.idle": "2023-12-22T06:50:24.791813Z",
     "shell.execute_reply": "2023-12-22T06:50:24.790998Z",
     "shell.execute_reply.started": "2023-12-22T06:50:24.769475Z"
    }
   },
   "outputs": [],
   "source": [
    "from transformers import TrainingArguments\n",
    "\n",
    "output_dir = \"./results\"\n",
    "per_device_train_batch_size = 2\n",
    "gradient_accumulation_steps = 8\n",
    "optim = \"paged_adamw_32bit\"\n",
    "save_steps = 5000\n",
    "logging_steps = 1\n",
    "learning_rate = 2e-4\n",
    "max_grad_norm = 0.3\n",
    "max_steps = 5000\n",
    "warmup_ratio = 0.03\n",
    "lr_scheduler_type = \"constant\"\n",
    "\n",
    "training_arguments = TrainingArguments(\n",
    "    output_dir=output_dir,\n",
    "    per_device_train_batch_size=per_device_train_batch_size,\n",
    "    gradient_accumulation_steps=gradient_accumulation_steps,\n",
    "    optim=optim,\n",
    "    save_steps=save_steps,\n",
    "    logging_steps=logging_steps,\n",
    "    learning_rate=learning_rate,\n",
    "    fp16=True,\n",
    "    max_grad_norm=max_grad_norm,\n",
    "    max_steps=max_steps,\n",
    "    warmup_ratio=warmup_ratio,\n",
    "    #group_by_length=True,\n",
    "    lr_scheduler_type=lr_scheduler_type,\n",
    "    #gradient_checkpointing=True,\n",
    "    report_to=\"tensorboard\"\n",
    ")"
   ]
  },
  {
   "cell_type": "code",
   "execution_count": null,
   "metadata": {
    "execution": {
     "iopub.execute_input": "2023-12-22T06:50:24.794855Z",
     "iopub.status.busy": "2023-12-22T06:50:24.794579Z",
     "iopub.status.idle": "2023-12-22T06:50:55.410022Z",
     "shell.execute_reply": "2023-12-22T06:50:55.409263Z",
     "shell.execute_reply.started": "2023-12-22T06:50:24.794831Z"
    }
   },
   "outputs": [],
   "source": [
    "from datasets import  DatasetDict\n",
    "\n",
    "raw_datasets = DatasetDict(\n",
    "    {\n",
    "        \"train\": dataset_train  # .shuffle().select(range(50000)),\n",
    "    }\n",
    ")\n",
    "context_length = 256\n",
    "\n",
    "def tokenize(element):\n",
    "    outputs = tokenizer(\n",
    "        element[\"text\"],\n",
    "        truncation=True,\n",
    "        max_length=context_length,\n",
    "        return_overflowing_tokens=True,\n",
    "        return_length=True,\n",
    "    )\n",
    "    input_batch = []\n",
    "    for length, input_ids in zip(outputs[\"length\"], outputs[\"input_ids\"]):\n",
    "        if length == context_length:\n",
    "            input_batch.append(input_ids)\n",
    "    return {\"input_ids\": input_batch}\n",
    "\n",
    "\n",
    "tokenized_datasets = raw_datasets.map(\n",
    "    tokenize, batched=True, remove_columns=raw_datasets[\"train\"].column_names\n",
    ")"
   ]
  },
  {
   "cell_type": "code",
   "execution_count": null,
   "metadata": {},
   "outputs": [],
   "source": [
    "from transformers import Trainer, DataCollatorForLanguageModeling, DataCollator\n",
    "\n",
    "data_collator = DataCollatorForLanguageModeling(tokenizer, mlm=False)\n",
    "\n",
    "trainer = Trainer(\n",
    "    model=model_phi2_scratch,\n",
    "    train_dataset=tokenized_datasets[\"train\"],\n",
    "    data_collator=data_collator,\n",
    "    tokenizer=tokenizer,\n",
    "    args=training_arguments,\n",
    ")"
   ]
  },
  {
   "cell_type": "code",
   "execution_count": null,
   "metadata": {
    "execution": {
     "iopub.execute_input": "2023-12-22T06:50:55.411383Z",
     "iopub.status.busy": "2023-12-22T06:50:55.411071Z",
     "iopub.status.idle": "2023-12-22T06:50:55.420738Z",
     "shell.execute_reply": "2023-12-22T06:50:55.419831Z",
     "shell.execute_reply.started": "2023-12-22T06:50:55.411355Z"
    }
   },
   "outputs": [],
   "source": [
    "for name, module in trainer.model.named_modules():\n",
    "    if \"norm\" in name:\n",
    "        module = module.to(torch.float32)"
   ]
  },
  {
   "cell_type": "code",
   "execution_count": null,
   "metadata": {},
   "outputs": [],
   "source": [
    "trainer.train() ## randomly initialized weights"
   ]
  },
  {
   "cell_type": "code",
   "execution_count": null,
   "metadata": {},
   "outputs": [],
   "source": []
  }
 ],
 "metadata": {
  "kaggle": {
   "accelerator": "gpu",
   "dataSources": [],
   "dockerImageVersionId": 30626,
   "isGpuEnabled": true,
   "isInternetEnabled": true,
   "language": "python",
   "sourceType": "notebook"
  },
  "kernelspec": {
   "display_name": "Python 3 (ipykernel)",
   "language": "python",
   "name": "python3"
  },
  "language_info": {
   "codemirror_mode": {
    "name": "ipython",
    "version": 3
   },
   "file_extension": ".py",
   "mimetype": "text/x-python",
   "name": "python",
   "nbconvert_exporter": "python",
   "pygments_lexer": "ipython3",
   "version": "3.11.4"
  }
 },
 "nbformat": 4,
 "nbformat_minor": 4
}
